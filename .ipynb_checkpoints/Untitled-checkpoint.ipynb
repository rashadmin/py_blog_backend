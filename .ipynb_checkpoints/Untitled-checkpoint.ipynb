{
 "cells": [
  {
   "cell_type": "code",
   "execution_count": 43,
   "id": "ff183565-5034-471a-856f-84ee933ca98a",
   "metadata": {},
   "outputs": [],
   "source": [
    "blog = '''So I just finished this book : newwhitepaper prompt engineering Author: Lee Boonstra since last month, actually not that I was reading it consistently because I was kinda busy with my project and academics stuff and pheeeew... It was worthwhile.\n",
    "I had undergone the deep learning ai Andrew Ng prompt engineering course but it was not as detailed as this. Probably because theirs was at the genesis of when it started and also became it was openAI, but this is Gemini based.\n",
    "Learnt chain of thought,tree of thought, self consistency, best practices and I learnt something... Instructions over constraints, well you are better off giving the prompt of what you want it to do than telling it what not to do cause telling it what not to do brings doubt as to whether what to do will also be wrong and stuff. It's fun , inspirational, educational and beautiful... Now I can wait to go back to my joy😌... Coding the project using the prompt engineering 😂😂.The insightful part of the book were ,the best practices as to writing prompting, the instructions over constraint section e.t.c . it differ from andrew ng's course in ways like andrew talked about best practices but didn''t focus on the type of prompting, probably hearing the word chain of though and self consitency by the model for the first time. I missed that stuff just this last 5-7 days I guess, I'm still maintaining my commit streak on GitHub, just that I'm ensuring that I just change something, nothing serious'''"
   ]
  },
  {
   "cell_type": "code",
   "execution_count": 72,
   "id": "2f511490-d8fd-4eba-9c02-f2301d431425",
   "metadata": {},
   "outputs": [],
   "source": [
    "text = f'''\n",
    "part\n",
    "\n",
    "Context : I want you to act as a post and content author and editor for facebook,Twitter(X),LinkedIn.\n",
    "You will receive a post -`{blog}` , You should check: \n",
    "- if an information which you will need for the complete editing of the post is not there, send  questions about the information you need but one at a time.\n",
    "- this information i'm talking about are not about the post but the content of the post, so for example i only need questions that expatiate on the information you need and not question about that talk about the style,format or plot of the post\n",
    "- The response should be in the format `question` if there is a question, else `done`\n",
    "- Use the following formatting guideline to decide on the missing information :\n",
    "    *1. Focus on Value and Insights*\n",
    "        * **Shift from \"I learned X\" to \"I discovered Y\"**: Frame your learning around valuable insights or new perspectives. Instead of simply stating \"I learned about machine learning,\" share a key takeaway: \"I discovered how machine learning can be used to personalize customer experiences and increase engagement.\"\n",
    "        * **Highlight Impact**: How will this new knowledge benefit you, your career, or your industry? \"This newfound understanding of agile methodologies will allow me to contribute more effectively to cross-functional teams and deliver projects more efficiently.\"\n",
    "        * **Share Practical Applications**: How can others benefit from your learning? Offer concrete examples, tips, or actionable advice. \"If you're interested in improving your communication skills, I highly recommend [resource] – it helped me significantly enhance my clarity and conciseness.\"\n",
    "\n",
    "    *2. Craft an Engaging Narrative**\n",
    "\n",
    "        * **Start with a Hook**: Grab attention with a compelling question, a surprising fact, or a relevant anecdote. \"Did you know that [interesting fact related to your learning]? This sparked my curiosity to delve deeper into...\"\n",
    "        * **Use Storytelling**: Share a brief story about your learning journey – a challenge you overcame, a mentor who inspired you, or a moment of \"aha!\"\n",
    "        * **Show, Don't Tell**: Instead of simply listing your accomplishments, vividly describe your experiences and the impact of your learning. \"I'm thrilled to have successfully implemented [project] using the skills I gained from [course/workshop]. It was a challenging but rewarding experience that pushed me to grow.\"\n",
    "\n",
    "    *3. Optimize for : **\n",
    "        - LinkedIn\n",
    "            * Use Relevant Hashtags:\n",
    "                LinkedIn: Aim for 3-5 relevant hashtags. Research industry-specific hashtags and those popular within your niche. Examples: #[IndustryName], #[SkillName], #[CareerGoal], #[CompanyName] (if applicable).\n",
    "            * Visual Appeal:\n",
    "                LinkedIn: Prioritize professional and high-quality images or short, informative videos. Consider using LinkedIn's native video editing tools.\n",
    "            * Encourage Engagement:\n",
    "                LinkedIn: Pose thought-provoking questions related to your learning or industry trends. Examples: \"What are your biggest challenges in [area of learning]?\", \"How are you upskilling in this competitive job market?\", \"What resources have you found most helpful in your professional development?\"\n",
    "            * Call to Action (Optional):\n",
    "                LinkedIn: Encourage connections, invite discussions, or share links to relevant articles, resources, or your own work. Examples: \"Connect with me if you're interested in [topic],\" \"Share your thoughts and experiences in the comments below,\" \"Check out my latest blog post on [related topic].\"\n",
    "        - Twitter\n",
    "            * Use Relevant Hashtags:\n",
    "                Twitter: Utilize 2-3 highly relevant and trending hashtags. Keep it concise and use a mix of broad and niche hashtags. Examples: #[SkillName], #[IndustryTrend], #[LearningTip], #[EventMention] (if applicable).\n",
    "            * Visual Appeal:\n",
    "                Twitter: Use eye-catching images, short, impactful videos, or GIFs. Twitter Cards can enhance your visuals.\n",
    "            * Encourage Engagement:\n",
    "                Twitter: Ask direct questions, run polls, or use Twitter's Q&A features to spark interaction. Examples: \"What's your favorite way to learn new skills?\", \"True or False: [Statement related to your learning],\" \"What's one thing you're learning right now?\"\n",
    "            * Call to Action (Optional):\n",
    "                Twitter: Encourage retweets, replies, and direct messages. Examples: \"Retweet if you're also on a learning journey!\", \"Share your thoughts in the comments below,\" \"DM me if you have any questions.\"\n",
    "        - Facebook\n",
    "            * Use Relevant Hashtags:\n",
    "                Facebook: Include 2-3 relevant hashtags, but don't overdo it. Focus on broader hashtags that resonate with your target audience. Examples: #[IndustryName], #[SkillDevelopment], #[LifelongLearning], #[PersonalGrowth].\n",
    "            * Visual Appeal:\n",
    "                Facebook: Use high-quality images, videos, or even short, engaging stories. Consider using Facebook's creative tools for image and video editing.\n",
    "            * Encourage Engagement:\n",
    "                Facebook: Ask open-ended questions, start discussions, or run contests related to your learning. Examples: \"What are your biggest career goals?\", \"Share your favorite learning resources in the comments,\" \"Enter to win [prize] by sharing your own learning story.\"\n",
    "            * Call to Action (Optional):\n",
    "                Facebook: Encourage likes, shares, comments, and direct messages. Invite friends and connections to join your learning journey. Examples: \"Like this post if you're committed to lifelong learning!\", \"Share this with someone who needs a little inspiration,\" \"Message me if you'd like to learn more about [topic].\"\n",
    "               \n",
    "    *4. Maintain a Professional and Conversational Tone**\n",
    "\n",
    "        * **Be Authentic**: Write in your own voice and share your genuine enthusiasm for learning.\n",
    "        * **Be Concise**: Keep your posts brief and to the point. Aim for 1-2 paragraphs for maximum readability.\n",
    "        * **Proofread Carefully**: Ensure your post is free of any grammatical errors or typos.\n",
    "\n",
    "    **Example Post (Learning Journey)**\n",
    "\n",
    "        **\"I recently completed a [course/certification] in [subject] and I'm incredibly excited about the new skills and knowledge I've gained. One of the most valuable lessons I learned was [key insight]. This has already helped me [positive outcome]. I'm eager to apply these learnings to [future goal] and contribute to [industry/team]. #[hashtag1] #[hashtag2] #[hashtag3]\"**\n",
    "\n",
    "        **Remember**: Consistency is key! Regularly sharing your learning journey on LinkedIn can help you build your professional brand, connect with like-minded individuals, and showcase your growth mindset.\n",
    "\n",
    "        By following these guidelines, you can craft informative and engaging LinkedIn posts that effectively communicate your learning experiences and inspire others on their own journeys.\n",
    "'''"
   ]
  },
  {
   "cell_type": "code",
   "execution_count": 78,
   "id": "480f54db-0e26-4435-9a8a-765ebd29cf1f",
   "metadata": {},
   "outputs": [],
   "source": [
    "import os\n",
    "import google.generativeai as genai\n",
    "\n",
    "# genai.configure(api_key='')\n",
    "\n",
    "# Create the model\n",
    "generation_config = {\n",
    "  \"temperature\": 0.2,\n",
    "  \"top_p\": 0.95,\n",
    "  \"top_k\": 40,\n",
    "  \"max_output_tokens\": 8192,\n",
    "  \"response_mime_type\": \"application/json\",\n",
    "}\n",
    "\n",
    "model = genai.GenerativeModel(\n",
    "  model_name=\"gemini-2.0-flash-exp\",\n",
    "  generation_config=generation_config,\n",
    ")\n",
    "\n",
    "chat_session = model.start_chat(\n",
    "  history=[\n",
    "    {\n",
    "      \"role\": \"user\",\n",
    "      \"parts\": [ text\n",
    "      ],\n",
    "    },\n",
    "  ]\n",
    ")"
   ]
  },
  {
   "cell_type": "code",
   "execution_count": 82,
   "id": "c64966be-1f21-4066-bfdc-7b17a6936434",
   "metadata": {},
   "outputs": [
    {
     "name": "stdout",
     "output_type": "stream",
     "text": [
      "{\n",
      "  \"done\": \"done\"\n",
      "}\n"
     ]
    }
   ],
   "source": [
    "response = chat_session.send_message(\"Learning New things different from what i knew, and the way the book was well structured. The aspect is the chain of thought and also how to make use of parameter like temperature, top-k top-p\")\n",
    "print(response.text)"
   ]
  },
  {
   "cell_type": "code",
   "execution_count": 48,
   "id": "5c7666c0-cd59-48ea-ab4e-eae37cbf98b8",
   "metadata": {},
   "outputs": [],
   "source": [
    "history = [\n",
    "    {\n",
    "      \"role\": \"user\",\n",
    "      \"parts\": [ text\n",
    "      ],\n",
    "    },\n",
    "  ]"
   ]
  },
  {
   "cell_type": "code",
   "execution_count": 58,
   "id": "6674bd3f-59d2-4f43-93da-9e5faaed30b5",
   "metadata": {},
   "outputs": [
    {
     "data": {
      "text/plain": [
       "5"
      ]
     },
     "execution_count": 58,
     "metadata": {},
     "output_type": "execute_result"
    }
   ],
   "source": [
    "import json\n",
    "len(chat_session.history)"
   ]
  },
  {
   "cell_type": "code",
   "execution_count": 60,
   "id": "df6385ea-ef4a-4c94-969b-cdfa6120df1e",
   "metadata": {},
   "outputs": [
    {
     "data": {
      "text/plain": [
       "parts {\n",
       "  text: \"By ensuring i reduce the amount of Do not and increase the number of Dos\"\n",
       "}\n",
       "role: \"user\""
      ]
     },
     "execution_count": 60,
     "metadata": {},
     "output_type": "execute_result"
    }
   ],
   "source": [
    "chat_session.history[-2]"
   ]
  },
  {
   "cell_type": "code",
   "execution_count": null,
   "id": "be5a5ea6-cf0e-4b89-9941-fe4100d119b2",
   "metadata": {},
   "outputs": [],
   "source": []
  }
 ],
 "metadata": {
  "kernelspec": {
   "display_name": "Python 3 (ipykernel)",
   "language": "python",
   "name": "python3"
  },
  "language_info": {
   "codemirror_mode": {
    "name": "ipython",
    "version": 3
   },
   "file_extension": ".py",
   "mimetype": "text/x-python",
   "name": "python",
   "nbconvert_exporter": "python",
   "pygments_lexer": "ipython3",
   "version": "3.11.7"
  }
 },
 "nbformat": 4,
 "nbformat_minor": 5
}
